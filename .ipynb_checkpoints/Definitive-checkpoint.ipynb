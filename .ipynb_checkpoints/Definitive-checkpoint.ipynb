{
 "cells": [
  {
   "cell_type": "markdown",
   "id": "86b5306c",
   "metadata": {},
   "source": [
    "# Krippendorff's Alpha example application\n",
    "In this code we are going to work with an application of Krippendorff's Alpha measure in Python.<br>\n",
    "First one step is import libraries for help with this activitie."
   ]
  },
  {
   "cell_type": "code",
   "execution_count": 1,
   "id": "70c14a31",
   "metadata": {},
   "outputs": [],
   "source": [
    "import krippendorff as kp\n",
    "from sklearn.metrics import cohen_kappa_score\n",
    "import pandas as pd\n",
    "import json"
   ]
  },
  {
   "cell_type": "markdown",
   "id": "50281096",
   "metadata": {},
   "source": [
    "Now we import the datasets for use in the measure. <br>\n",
    "Be careful with the path, another computer have your own path."
   ]
  },
  {
   "cell_type": "code",
   "execution_count": 2,
   "id": "645496ef",
   "metadata": {},
   "outputs": [],
   "source": [
    "Data_Annotation_1 = pd.read_json('C:/Users/stefanini/Documents/Temporario/AiLab/Tagger/Rafael.json')\n",
    "Data_Annotation_2 = pd.read_json('C:/Users/stefanini/Documents/Temporario/AiLab/Tagger/Caio.json')"
   ]
  },
  {
   "cell_type": "markdown",
   "id": "1d5e86eb",
   "metadata": {},
   "source": [
    "Here are some ways to visualize the dataset. "
   ]
  },
  {
   "cell_type": "code",
   "execution_count": 4,
   "id": "944f29d2",
   "metadata": {},
   "outputs": [
    {
     "data": {
      "text/html": [
       "<div>\n",
       "<style scoped>\n",
       "    .dataframe tbody tr th:only-of-type {\n",
       "        vertical-align: middle;\n",
       "    }\n",
       "\n",
       "    .dataframe tbody tr th {\n",
       "        vertical-align: top;\n",
       "    }\n",
       "\n",
       "    .dataframe thead th {\n",
       "        text-align: right;\n",
       "    }\n",
       "</style>\n",
       "<table border=\"1\" class=\"dataframe\">\n",
       "  <thead>\n",
       "    <tr style=\"text-align: right;\">\n",
       "      <th></th>\n",
       "      <th>id</th>\n",
       "      <th>annotations</th>\n",
       "      <th>file_upload</th>\n",
       "      <th>drafts</th>\n",
       "      <th>predictions</th>\n",
       "      <th>data</th>\n",
       "      <th>meta</th>\n",
       "      <th>created_at</th>\n",
       "      <th>updated_at</th>\n",
       "      <th>inner_id</th>\n",
       "      <th>project</th>\n",
       "      <th>updated_by</th>\n",
       "    </tr>\n",
       "  </thead>\n",
       "  <tbody>\n",
       "    <tr>\n",
       "      <th>0</th>\n",
       "      <td>1112</td>\n",
       "      <td>[{'id': 565, 'completed_by': 2, 'result': [], ...</td>\n",
       "      <td>6f3713f1-page4.png</td>\n",
       "      <td>[]</td>\n",
       "      <td>[]</td>\n",
       "      <td>{'image': '/labelstudio//data/upload/17/6f3713...</td>\n",
       "      <td>{}</td>\n",
       "      <td>2022-06-21 17:50:19.566552+00:00</td>\n",
       "      <td>2022-07-04 13:45:57.241177+00:00</td>\n",
       "      <td>4</td>\n",
       "      <td>17</td>\n",
       "      <td>6</td>\n",
       "    </tr>\n",
       "    <tr>\n",
       "      <th>1</th>\n",
       "      <td>1111</td>\n",
       "      <td>[{'id': 564, 'completed_by': 2, 'result': [], ...</td>\n",
       "      <td>19eaf9ab-page3.png</td>\n",
       "      <td>[]</td>\n",
       "      <td>[]</td>\n",
       "      <td>{'image': '/labelstudio//data/upload/17/19eaf9...</td>\n",
       "      <td>{}</td>\n",
       "      <td>2022-06-21 17:50:19.566502+00:00</td>\n",
       "      <td>2022-07-04 13:45:53.559960+00:00</td>\n",
       "      <td>3</td>\n",
       "      <td>17</td>\n",
       "      <td>6</td>\n",
       "    </tr>\n",
       "    <tr>\n",
       "      <th>2</th>\n",
       "      <td>1110</td>\n",
       "      <td>[{'id': 563, 'completed_by': 2, 'result': [{'v...</td>\n",
       "      <td>d9f49a9e-page2.png</td>\n",
       "      <td>[]</td>\n",
       "      <td>[]</td>\n",
       "      <td>{'image': '/labelstudio//data/upload/17/d9f49a...</td>\n",
       "      <td>{}</td>\n",
       "      <td>2022-06-21 17:50:19.566448+00:00</td>\n",
       "      <td>2022-07-04 13:05:19.226525+00:00</td>\n",
       "      <td>2</td>\n",
       "      <td>17</td>\n",
       "      <td>6</td>\n",
       "    </tr>\n",
       "    <tr>\n",
       "      <th>3</th>\n",
       "      <td>1128</td>\n",
       "      <td>[{'id': 581, 'completed_by': 2, 'result': [{'v...</td>\n",
       "      <td>857ffa31-page20.png</td>\n",
       "      <td>[]</td>\n",
       "      <td>[]</td>\n",
       "      <td>{'image': '/labelstudio//data/upload/17/857ffa...</td>\n",
       "      <td>{}</td>\n",
       "      <td>2022-06-21 17:50:19.567412+00:00</td>\n",
       "      <td>2022-07-04 13:05:15.952995+00:00</td>\n",
       "      <td>20</td>\n",
       "      <td>17</td>\n",
       "      <td>6</td>\n",
       "    </tr>\n",
       "    <tr>\n",
       "      <th>4</th>\n",
       "      <td>1127</td>\n",
       "      <td>[{'id': 580, 'completed_by': 2, 'result': [{'v...</td>\n",
       "      <td>ff30cf96-page19.png</td>\n",
       "      <td>[]</td>\n",
       "      <td>[]</td>\n",
       "      <td>{'image': '/labelstudio//data/upload/17/ff30cf...</td>\n",
       "      <td>{}</td>\n",
       "      <td>2022-06-21 17:50:19.567365+00:00</td>\n",
       "      <td>2022-07-04 13:05:13.009857+00:00</td>\n",
       "      <td>19</td>\n",
       "      <td>17</td>\n",
       "      <td>6</td>\n",
       "    </tr>\n",
       "  </tbody>\n",
       "</table>\n",
       "</div>"
      ],
      "text/plain": [
       "     id                                        annotations  \\\n",
       "0  1112  [{'id': 565, 'completed_by': 2, 'result': [], ...   \n",
       "1  1111  [{'id': 564, 'completed_by': 2, 'result': [], ...   \n",
       "2  1110  [{'id': 563, 'completed_by': 2, 'result': [{'v...   \n",
       "3  1128  [{'id': 581, 'completed_by': 2, 'result': [{'v...   \n",
       "4  1127  [{'id': 580, 'completed_by': 2, 'result': [{'v...   \n",
       "\n",
       "           file_upload drafts predictions  \\\n",
       "0   6f3713f1-page4.png     []          []   \n",
       "1   19eaf9ab-page3.png     []          []   \n",
       "2   d9f49a9e-page2.png     []          []   \n",
       "3  857ffa31-page20.png     []          []   \n",
       "4  ff30cf96-page19.png     []          []   \n",
       "\n",
       "                                                data meta  \\\n",
       "0  {'image': '/labelstudio//data/upload/17/6f3713...   {}   \n",
       "1  {'image': '/labelstudio//data/upload/17/19eaf9...   {}   \n",
       "2  {'image': '/labelstudio//data/upload/17/d9f49a...   {}   \n",
       "3  {'image': '/labelstudio//data/upload/17/857ffa...   {}   \n",
       "4  {'image': '/labelstudio//data/upload/17/ff30cf...   {}   \n",
       "\n",
       "                        created_at                       updated_at  inner_id  \\\n",
       "0 2022-06-21 17:50:19.566552+00:00 2022-07-04 13:45:57.241177+00:00         4   \n",
       "1 2022-06-21 17:50:19.566502+00:00 2022-07-04 13:45:53.559960+00:00         3   \n",
       "2 2022-06-21 17:50:19.566448+00:00 2022-07-04 13:05:19.226525+00:00         2   \n",
       "3 2022-06-21 17:50:19.567412+00:00 2022-07-04 13:05:15.952995+00:00        20   \n",
       "4 2022-06-21 17:50:19.567365+00:00 2022-07-04 13:05:13.009857+00:00        19   \n",
       "\n",
       "   project  updated_by  \n",
       "0       17           6  \n",
       "1       17           6  \n",
       "2       17           6  \n",
       "3       17           6  \n",
       "4       17           6  "
      ]
     },
     "execution_count": 4,
     "metadata": {},
     "output_type": "execute_result"
    }
   ],
   "source": [
    "Data_Annotation_1.head()"
   ]
  },
  {
   "cell_type": "code",
   "execution_count": 5,
   "id": "bc2fd671",
   "metadata": {
    "scrolled": true
   },
   "outputs": [
    {
     "data": {
      "text/html": [
       "<div>\n",
       "<style scoped>\n",
       "    .dataframe tbody tr th:only-of-type {\n",
       "        vertical-align: middle;\n",
       "    }\n",
       "\n",
       "    .dataframe tbody tr th {\n",
       "        vertical-align: top;\n",
       "    }\n",
       "\n",
       "    .dataframe thead th {\n",
       "        text-align: right;\n",
       "    }\n",
       "</style>\n",
       "<table border=\"1\" class=\"dataframe\">\n",
       "  <thead>\n",
       "    <tr style=\"text-align: right;\">\n",
       "      <th></th>\n",
       "      <th>id</th>\n",
       "      <th>annotations</th>\n",
       "      <th>file_upload</th>\n",
       "      <th>drafts</th>\n",
       "      <th>predictions</th>\n",
       "      <th>data</th>\n",
       "      <th>meta</th>\n",
       "      <th>created_at</th>\n",
       "      <th>updated_at</th>\n",
       "      <th>inner_id</th>\n",
       "      <th>project</th>\n",
       "      <th>updated_by</th>\n",
       "    </tr>\n",
       "  </thead>\n",
       "  <tbody>\n",
       "    <tr>\n",
       "      <th>0</th>\n",
       "      <td>1110</td>\n",
       "      <td>[{'id': 563, 'completed_by': 2, 'result': [{'v...</td>\n",
       "      <td>d9f49a9e-page2.png</td>\n",
       "      <td>[]</td>\n",
       "      <td>[]</td>\n",
       "      <td>{'image': '/labelstudio//data/upload/17/d9f49a...</td>\n",
       "      <td>{}</td>\n",
       "      <td>2022-06-21 17:50:19.566448+00:00</td>\n",
       "      <td>2022-07-04 13:05:19.226525+00:00</td>\n",
       "      <td>2</td>\n",
       "      <td>17</td>\n",
       "      <td>6</td>\n",
       "    </tr>\n",
       "    <tr>\n",
       "      <th>1</th>\n",
       "      <td>1128</td>\n",
       "      <td>[{'id': 581, 'completed_by': 2, 'result': [{'v...</td>\n",
       "      <td>857ffa31-page20.png</td>\n",
       "      <td>[]</td>\n",
       "      <td>[]</td>\n",
       "      <td>{'image': '/labelstudio//data/upload/17/857ffa...</td>\n",
       "      <td>{}</td>\n",
       "      <td>2022-06-21 17:50:19.567412+00:00</td>\n",
       "      <td>2022-07-04 13:05:15.952995+00:00</td>\n",
       "      <td>20</td>\n",
       "      <td>17</td>\n",
       "      <td>6</td>\n",
       "    </tr>\n",
       "    <tr>\n",
       "      <th>2</th>\n",
       "      <td>1127</td>\n",
       "      <td>[{'id': 580, 'completed_by': 2, 'result': [{'v...</td>\n",
       "      <td>ff30cf96-page19.png</td>\n",
       "      <td>[]</td>\n",
       "      <td>[]</td>\n",
       "      <td>{'image': '/labelstudio//data/upload/17/ff30cf...</td>\n",
       "      <td>{}</td>\n",
       "      <td>2022-06-21 17:50:19.567365+00:00</td>\n",
       "      <td>2022-07-04 13:05:13.009857+00:00</td>\n",
       "      <td>19</td>\n",
       "      <td>17</td>\n",
       "      <td>6</td>\n",
       "    </tr>\n",
       "    <tr>\n",
       "      <th>3</th>\n",
       "      <td>1111</td>\n",
       "      <td>[{'id': 564, 'completed_by': 2, 'result': [{'v...</td>\n",
       "      <td>19eaf9ab-page3.png</td>\n",
       "      <td>[]</td>\n",
       "      <td>[]</td>\n",
       "      <td>{'image': '/labelstudio//data/upload/17/19eaf9...</td>\n",
       "      <td>{}</td>\n",
       "      <td>2022-06-21 17:50:19.566502+00:00</td>\n",
       "      <td>2022-07-04 13:05:09.333599+00:00</td>\n",
       "      <td>3</td>\n",
       "      <td>17</td>\n",
       "      <td>6</td>\n",
       "    </tr>\n",
       "    <tr>\n",
       "      <th>4</th>\n",
       "      <td>1114</td>\n",
       "      <td>[{'id': 567, 'completed_by': 2, 'result': [{'v...</td>\n",
       "      <td>c9b2128d-page6.png</td>\n",
       "      <td>[]</td>\n",
       "      <td>[]</td>\n",
       "      <td>{'image': '/labelstudio//data/upload/17/c9b212...</td>\n",
       "      <td>{}</td>\n",
       "      <td>2022-06-21 17:50:19.566652+00:00</td>\n",
       "      <td>2022-07-04 13:05:05.915666+00:00</td>\n",
       "      <td>6</td>\n",
       "      <td>17</td>\n",
       "      <td>6</td>\n",
       "    </tr>\n",
       "  </tbody>\n",
       "</table>\n",
       "</div>"
      ],
      "text/plain": [
       "     id                                        annotations  \\\n",
       "0  1110  [{'id': 563, 'completed_by': 2, 'result': [{'v...   \n",
       "1  1128  [{'id': 581, 'completed_by': 2, 'result': [{'v...   \n",
       "2  1127  [{'id': 580, 'completed_by': 2, 'result': [{'v...   \n",
       "3  1111  [{'id': 564, 'completed_by': 2, 'result': [{'v...   \n",
       "4  1114  [{'id': 567, 'completed_by': 2, 'result': [{'v...   \n",
       "\n",
       "           file_upload drafts predictions  \\\n",
       "0   d9f49a9e-page2.png     []          []   \n",
       "1  857ffa31-page20.png     []          []   \n",
       "2  ff30cf96-page19.png     []          []   \n",
       "3   19eaf9ab-page3.png     []          []   \n",
       "4   c9b2128d-page6.png     []          []   \n",
       "\n",
       "                                                data meta  \\\n",
       "0  {'image': '/labelstudio//data/upload/17/d9f49a...   {}   \n",
       "1  {'image': '/labelstudio//data/upload/17/857ffa...   {}   \n",
       "2  {'image': '/labelstudio//data/upload/17/ff30cf...   {}   \n",
       "3  {'image': '/labelstudio//data/upload/17/19eaf9...   {}   \n",
       "4  {'image': '/labelstudio//data/upload/17/c9b212...   {}   \n",
       "\n",
       "                        created_at                       updated_at  inner_id  \\\n",
       "0 2022-06-21 17:50:19.566448+00:00 2022-07-04 13:05:19.226525+00:00         2   \n",
       "1 2022-06-21 17:50:19.567412+00:00 2022-07-04 13:05:15.952995+00:00        20   \n",
       "2 2022-06-21 17:50:19.567365+00:00 2022-07-04 13:05:13.009857+00:00        19   \n",
       "3 2022-06-21 17:50:19.566502+00:00 2022-07-04 13:05:09.333599+00:00         3   \n",
       "4 2022-06-21 17:50:19.566652+00:00 2022-07-04 13:05:05.915666+00:00         6   \n",
       "\n",
       "   project  updated_by  \n",
       "0       17           6  \n",
       "1       17           6  \n",
       "2       17           6  \n",
       "3       17           6  \n",
       "4       17           6  "
      ]
     },
     "execution_count": 5,
     "metadata": {},
     "output_type": "execute_result"
    }
   ],
   "source": [
    "Data_Annotation_2.head()"
   ]
  },
  {
   "cell_type": "markdown",
   "id": "f0fdc5e4",
   "metadata": {},
   "source": [
    "The next part of code change the classification where is:\n",
    "- 'mesmo documento' to 1;\n",
    "- 'novo documento' to 0;\n",
    "- value is None to 2.<br>\n",
    "\n",
    "Detail there where is None, the code invalidate the two datasets of annotation."
   ]
  },
  {
   "cell_type": "code",
   "execution_count": 3,
   "id": "9a8bb456",
   "metadata": {},
   "outputs": [],
   "source": [
    "index = 0\n",
    "results = []\n",
    "annotator_1 = []\n",
    "annotator_2 = []\n",
    "for annotations in Data_Annotation_1.annotations:\n",
    "    if Data_Annotation_1.annotations[index][0]['result'] == []:\n",
    "        Data_Annotation_1.annotations[index][0]['result'] = 2\n",
    "        annotator_1.append(2)\n",
    "        annotator_2.append(2)\n",
    "        index = index + 1\n",
    "        continue\n",
    "    elif Data_Annotation_1.annotations[index][0]['result'][0]['value']['choices'][0][0] == 'm':\n",
    "        Data_Annotation_1.annotations[index][0]['result'] = 1\n",
    "        annotator_1.append(1)\n",
    "    elif Data_Annotation_1.annotations[index][0]['result'][0]['value']['choices'][0][0] == 'n':\n",
    "        Data_Annotation_1.annotations[index][0]['result'] = 0\n",
    "        annotator_1.append(0)\n",
    "    if Data_Annotation_2.annotations[index][0]['result'][0]['value']['choices'][0][0] == 'm':\n",
    "        Data_Annotation_2.annotations[index][0]['result'] = 1\n",
    "        annotator_2.append(1)\n",
    "    elif Data_Annotation_2.annotations[index][0]['result'][0]['value']['choices'][0][0] == 'n':\n",
    "        Data_Annotation_2.annotations[index][0]['result'] = 0\n",
    "        annotator_2.append(0)\n",
    "    index = index + 1\n",
    "results.append(annotator_1)\n",
    "results.append(annotator_2)"
   ]
  },
  {
   "cell_type": "markdown",
   "id": "5bf881a8",
   "metadata": {},
   "source": [
    "The results of code above. The first array is the values of first annotator, and the second is from second annotator."
   ]
  },
  {
   "cell_type": "code",
   "execution_count": 4,
   "id": "459f792f",
   "metadata": {},
   "outputs": [
    {
     "data": {
      "text/plain": [
       "[[1, 0, 1, 1, 1, 0, 1, 1, 0, 0, 1, 1, 1, 0, 1, 1, 0, 1, 0, 0],\n",
       " [1, 0, 1, 0, 0, 0, 1, 1, 1, 1, 1, 1, 0, 0, 1, 1, 0, 1, 0, 0]]"
      ]
     },
     "execution_count": 4,
     "metadata": {},
     "output_type": "execute_result"
    }
   ],
   "source": [
    "results"
   ]
  },
  {
   "cell_type": "markdown",
   "id": "cced0924",
   "metadata": {},
   "source": [
    "Measure of Krippendorff's alpha."
   ]
  },
  {
   "cell_type": "code",
   "execution_count": 5,
   "id": "5f7fdf48",
   "metadata": {},
   "outputs": [
    {
     "data": {
      "text/plain": [
       "0.5012787723785166"
      ]
     },
     "execution_count": 5,
     "metadata": {},
     "output_type": "execute_result"
    }
   ],
   "source": [
    "kp.alpha(reliability_data=results)"
   ]
  },
  {
   "cell_type": "code",
   "execution_count": 6,
   "id": "4f6231e3",
   "metadata": {},
   "outputs": [
    {
     "name": "stdout",
     "output_type": "stream",
     "text": [
      "0.4897959183673469\n"
     ]
    }
   ],
   "source": [
    "print(cohen_kappa_score(results[0], results[1]))"
   ]
  },
  {
   "cell_type": "code",
   "execution_count": null,
   "id": "b38ba40f",
   "metadata": {},
   "outputs": [],
   "source": []
  }
 ],
 "metadata": {
  "kernelspec": {
   "display_name": "Python 3 (ipykernel)",
   "language": "python",
   "name": "python3"
  },
  "language_info": {
   "codemirror_mode": {
    "name": "ipython",
    "version": 3
   },
   "file_extension": ".py",
   "mimetype": "text/x-python",
   "name": "python",
   "nbconvert_exporter": "python",
   "pygments_lexer": "ipython3",
   "version": "3.9.12"
  }
 },
 "nbformat": 4,
 "nbformat_minor": 5
}
