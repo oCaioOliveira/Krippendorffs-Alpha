{
 "cells": [
  {
   "cell_type": "code",
   "execution_count": 1,
   "id": "70c14a31",
   "metadata": {},
   "outputs": [],
   "source": [
    "import krippendorff as kp\n",
    "from sklearn.metrics import cohen_kappa_score\n",
    "import pandas as pd\n",
    "import json"
   ]
  },
  {
   "cell_type": "code",
   "execution_count": 2,
   "id": "645496ef",
   "metadata": {},
   "outputs": [],
   "source": [
    "Data_Annotation_1 = pd.read_json('C:/Users/Caioc/Documents/AiLab/Documentos/Krippen/Rafael.json')\n",
    "Data_Annotation_2 = pd.read_json('C:/Users/Caioc/Documents/AiLab/Documentos/Krippen/Caio.json')"
   ]
  },
  {
   "cell_type": "code",
   "execution_count": 3,
   "id": "944f29d2",
   "metadata": {},
   "outputs": [
    {
     "data": {
      "text/html": [
       "<div>\n",
       "<style scoped>\n",
       "    .dataframe tbody tr th:only-of-type {\n",
       "        vertical-align: middle;\n",
       "    }\n",
       "\n",
       "    .dataframe tbody tr th {\n",
       "        vertical-align: top;\n",
       "    }\n",
       "\n",
       "    .dataframe thead th {\n",
       "        text-align: right;\n",
       "    }\n",
       "</style>\n",
       "<table border=\"1\" class=\"dataframe\">\n",
       "  <thead>\n",
       "    <tr style=\"text-align: right;\">\n",
       "      <th></th>\n",
       "      <th>id</th>\n",
       "      <th>annotations</th>\n",
       "      <th>file_upload</th>\n",
       "      <th>drafts</th>\n",
       "      <th>predictions</th>\n",
       "      <th>data</th>\n",
       "      <th>meta</th>\n",
       "      <th>created_at</th>\n",
       "      <th>updated_at</th>\n",
       "      <th>inner_id</th>\n",
       "      <th>project</th>\n",
       "      <th>updated_by</th>\n",
       "    </tr>\n",
       "  </thead>\n",
       "  <tbody>\n",
       "    <tr>\n",
       "      <th>0</th>\n",
       "      <td>1128</td>\n",
       "      <td>[{'id': 581, 'completed_by': 2, 'result': [{'v...</td>\n",
       "      <td>857ffa31-page20.png</td>\n",
       "      <td>[]</td>\n",
       "      <td>[]</td>\n",
       "      <td>{'image': '/labelstudio//data/upload/17/857ffa...</td>\n",
       "      <td>{}</td>\n",
       "      <td>2022-06-21 17:50:19.567412+00:00</td>\n",
       "      <td>2022-06-21 17:54:38.289462+00:00</td>\n",
       "      <td>20</td>\n",
       "      <td>17</td>\n",
       "      <td>2</td>\n",
       "    </tr>\n",
       "    <tr>\n",
       "      <th>1</th>\n",
       "      <td>1127</td>\n",
       "      <td>[{'id': 580, 'completed_by': 2, 'result': [{'v...</td>\n",
       "      <td>ff30cf96-page19.png</td>\n",
       "      <td>[]</td>\n",
       "      <td>[]</td>\n",
       "      <td>{'image': '/labelstudio//data/upload/17/ff30cf...</td>\n",
       "      <td>{}</td>\n",
       "      <td>2022-06-21 17:50:19.567365+00:00</td>\n",
       "      <td>2022-06-21 17:54:31.122822+00:00</td>\n",
       "      <td>19</td>\n",
       "      <td>17</td>\n",
       "      <td>2</td>\n",
       "    </tr>\n",
       "    <tr>\n",
       "      <th>2</th>\n",
       "      <td>1126</td>\n",
       "      <td>[{'id': 579, 'completed_by': 2, 'result': [{'v...</td>\n",
       "      <td>930567c4-page18.png</td>\n",
       "      <td>[]</td>\n",
       "      <td>[]</td>\n",
       "      <td>{'image': '/labelstudio//data/upload/17/930567...</td>\n",
       "      <td>{}</td>\n",
       "      <td>2022-06-21 17:50:19.567318+00:00</td>\n",
       "      <td>2022-06-21 17:54:23.425759+00:00</td>\n",
       "      <td>18</td>\n",
       "      <td>17</td>\n",
       "      <td>2</td>\n",
       "    </tr>\n",
       "    <tr>\n",
       "      <th>3</th>\n",
       "      <td>1125</td>\n",
       "      <td>[{'id': 578, 'completed_by': 2, 'result': [{'v...</td>\n",
       "      <td>f1907db0-page17.png</td>\n",
       "      <td>[]</td>\n",
       "      <td>[]</td>\n",
       "      <td>{'image': '/labelstudio//data/upload/17/f1907d...</td>\n",
       "      <td>{}</td>\n",
       "      <td>2022-06-21 17:50:19.567271+00:00</td>\n",
       "      <td>2022-06-21 17:54:18.209877+00:00</td>\n",
       "      <td>17</td>\n",
       "      <td>17</td>\n",
       "      <td>2</td>\n",
       "    </tr>\n",
       "    <tr>\n",
       "      <th>4</th>\n",
       "      <td>1124</td>\n",
       "      <td>[{'id': 577, 'completed_by': 2, 'result': [{'v...</td>\n",
       "      <td>1d0c4f90-page16.png</td>\n",
       "      <td>[]</td>\n",
       "      <td>[]</td>\n",
       "      <td>{'image': '/labelstudio//data/upload/17/1d0c4f...</td>\n",
       "      <td>{}</td>\n",
       "      <td>2022-06-21 17:50:19.567223+00:00</td>\n",
       "      <td>2022-06-21 17:54:13.469033+00:00</td>\n",
       "      <td>16</td>\n",
       "      <td>17</td>\n",
       "      <td>2</td>\n",
       "    </tr>\n",
       "  </tbody>\n",
       "</table>\n",
       "</div>"
      ],
      "text/plain": [
       "     id                                        annotations  \\\n",
       "0  1128  [{'id': 581, 'completed_by': 2, 'result': [{'v...   \n",
       "1  1127  [{'id': 580, 'completed_by': 2, 'result': [{'v...   \n",
       "2  1126  [{'id': 579, 'completed_by': 2, 'result': [{'v...   \n",
       "3  1125  [{'id': 578, 'completed_by': 2, 'result': [{'v...   \n",
       "4  1124  [{'id': 577, 'completed_by': 2, 'result': [{'v...   \n",
       "\n",
       "           file_upload drafts predictions  \\\n",
       "0  857ffa31-page20.png     []          []   \n",
       "1  ff30cf96-page19.png     []          []   \n",
       "2  930567c4-page18.png     []          []   \n",
       "3  f1907db0-page17.png     []          []   \n",
       "4  1d0c4f90-page16.png     []          []   \n",
       "\n",
       "                                                data meta  \\\n",
       "0  {'image': '/labelstudio//data/upload/17/857ffa...   {}   \n",
       "1  {'image': '/labelstudio//data/upload/17/ff30cf...   {}   \n",
       "2  {'image': '/labelstudio//data/upload/17/930567...   {}   \n",
       "3  {'image': '/labelstudio//data/upload/17/f1907d...   {}   \n",
       "4  {'image': '/labelstudio//data/upload/17/1d0c4f...   {}   \n",
       "\n",
       "                        created_at                       updated_at  inner_id  \\\n",
       "0 2022-06-21 17:50:19.567412+00:00 2022-06-21 17:54:38.289462+00:00        20   \n",
       "1 2022-06-21 17:50:19.567365+00:00 2022-06-21 17:54:31.122822+00:00        19   \n",
       "2 2022-06-21 17:50:19.567318+00:00 2022-06-21 17:54:23.425759+00:00        18   \n",
       "3 2022-06-21 17:50:19.567271+00:00 2022-06-21 17:54:18.209877+00:00        17   \n",
       "4 2022-06-21 17:50:19.567223+00:00 2022-06-21 17:54:13.469033+00:00        16   \n",
       "\n",
       "   project  updated_by  \n",
       "0       17           2  \n",
       "1       17           2  \n",
       "2       17           2  \n",
       "3       17           2  \n",
       "4       17           2  "
      ]
     },
     "execution_count": 3,
     "metadata": {},
     "output_type": "execute_result"
    }
   ],
   "source": [
    "Data_Annotation_1.head()"
   ]
  },
  {
   "cell_type": "code",
   "execution_count": 4,
   "id": "8a62874f",
   "metadata": {},
   "outputs": [
    {
     "data": {
      "text/html": [
       "<div>\n",
       "<style scoped>\n",
       "    .dataframe tbody tr th:only-of-type {\n",
       "        vertical-align: middle;\n",
       "    }\n",
       "\n",
       "    .dataframe tbody tr th {\n",
       "        vertical-align: top;\n",
       "    }\n",
       "\n",
       "    .dataframe thead th {\n",
       "        text-align: right;\n",
       "    }\n",
       "</style>\n",
       "<table border=\"1\" class=\"dataframe\">\n",
       "  <thead>\n",
       "    <tr style=\"text-align: right;\">\n",
       "      <th></th>\n",
       "      <th>id</th>\n",
       "      <th>annotations</th>\n",
       "      <th>file_upload</th>\n",
       "      <th>drafts</th>\n",
       "      <th>predictions</th>\n",
       "      <th>data</th>\n",
       "      <th>meta</th>\n",
       "      <th>created_at</th>\n",
       "      <th>updated_at</th>\n",
       "      <th>inner_id</th>\n",
       "      <th>project</th>\n",
       "      <th>updated_by</th>\n",
       "    </tr>\n",
       "  </thead>\n",
       "  <tbody>\n",
       "    <tr>\n",
       "      <th>0</th>\n",
       "      <td>1110</td>\n",
       "      <td>[{'id': 563, 'completed_by': 2, 'result': [{'v...</td>\n",
       "      <td>d9f49a9e-page2.png</td>\n",
       "      <td>[]</td>\n",
       "      <td>[]</td>\n",
       "      <td>{'image': '/labelstudio//data/upload/17/d9f49a...</td>\n",
       "      <td>{}</td>\n",
       "      <td>2022-06-21 17:50:19.566448+00:00</td>\n",
       "      <td>2022-07-04 13:05:19.226525+00:00</td>\n",
       "      <td>2</td>\n",
       "      <td>17</td>\n",
       "      <td>6</td>\n",
       "    </tr>\n",
       "    <tr>\n",
       "      <th>1</th>\n",
       "      <td>1128</td>\n",
       "      <td>[{'id': 581, 'completed_by': 2, 'result': [{'v...</td>\n",
       "      <td>857ffa31-page20.png</td>\n",
       "      <td>[]</td>\n",
       "      <td>[]</td>\n",
       "      <td>{'image': '/labelstudio//data/upload/17/857ffa...</td>\n",
       "      <td>{}</td>\n",
       "      <td>2022-06-21 17:50:19.567412+00:00</td>\n",
       "      <td>2022-07-04 13:05:15.952995+00:00</td>\n",
       "      <td>20</td>\n",
       "      <td>17</td>\n",
       "      <td>6</td>\n",
       "    </tr>\n",
       "    <tr>\n",
       "      <th>2</th>\n",
       "      <td>1127</td>\n",
       "      <td>[{'id': 580, 'completed_by': 2, 'result': [{'v...</td>\n",
       "      <td>ff30cf96-page19.png</td>\n",
       "      <td>[]</td>\n",
       "      <td>[]</td>\n",
       "      <td>{'image': '/labelstudio//data/upload/17/ff30cf...</td>\n",
       "      <td>{}</td>\n",
       "      <td>2022-06-21 17:50:19.567365+00:00</td>\n",
       "      <td>2022-07-04 13:05:13.009857+00:00</td>\n",
       "      <td>19</td>\n",
       "      <td>17</td>\n",
       "      <td>6</td>\n",
       "    </tr>\n",
       "    <tr>\n",
       "      <th>3</th>\n",
       "      <td>1111</td>\n",
       "      <td>[{'id': 564, 'completed_by': 2, 'result': [{'v...</td>\n",
       "      <td>19eaf9ab-page3.png</td>\n",
       "      <td>[]</td>\n",
       "      <td>[]</td>\n",
       "      <td>{'image': '/labelstudio//data/upload/17/19eaf9...</td>\n",
       "      <td>{}</td>\n",
       "      <td>2022-06-21 17:50:19.566502+00:00</td>\n",
       "      <td>2022-07-04 13:05:09.333599+00:00</td>\n",
       "      <td>3</td>\n",
       "      <td>17</td>\n",
       "      <td>6</td>\n",
       "    </tr>\n",
       "    <tr>\n",
       "      <th>4</th>\n",
       "      <td>1114</td>\n",
       "      <td>[{'id': 567, 'completed_by': 2, 'result': [{'v...</td>\n",
       "      <td>c9b2128d-page6.png</td>\n",
       "      <td>[]</td>\n",
       "      <td>[]</td>\n",
       "      <td>{'image': '/labelstudio//data/upload/17/c9b212...</td>\n",
       "      <td>{}</td>\n",
       "      <td>2022-06-21 17:50:19.566652+00:00</td>\n",
       "      <td>2022-07-04 13:05:05.915666+00:00</td>\n",
       "      <td>6</td>\n",
       "      <td>17</td>\n",
       "      <td>6</td>\n",
       "    </tr>\n",
       "  </tbody>\n",
       "</table>\n",
       "</div>"
      ],
      "text/plain": [
       "     id                                        annotations  \\\n",
       "0  1110  [{'id': 563, 'completed_by': 2, 'result': [{'v...   \n",
       "1  1128  [{'id': 581, 'completed_by': 2, 'result': [{'v...   \n",
       "2  1127  [{'id': 580, 'completed_by': 2, 'result': [{'v...   \n",
       "3  1111  [{'id': 564, 'completed_by': 2, 'result': [{'v...   \n",
       "4  1114  [{'id': 567, 'completed_by': 2, 'result': [{'v...   \n",
       "\n",
       "           file_upload drafts predictions  \\\n",
       "0   d9f49a9e-page2.png     []          []   \n",
       "1  857ffa31-page20.png     []          []   \n",
       "2  ff30cf96-page19.png     []          []   \n",
       "3   19eaf9ab-page3.png     []          []   \n",
       "4   c9b2128d-page6.png     []          []   \n",
       "\n",
       "                                                data meta  \\\n",
       "0  {'image': '/labelstudio//data/upload/17/d9f49a...   {}   \n",
       "1  {'image': '/labelstudio//data/upload/17/857ffa...   {}   \n",
       "2  {'image': '/labelstudio//data/upload/17/ff30cf...   {}   \n",
       "3  {'image': '/labelstudio//data/upload/17/19eaf9...   {}   \n",
       "4  {'image': '/labelstudio//data/upload/17/c9b212...   {}   \n",
       "\n",
       "                        created_at                       updated_at  inner_id  \\\n",
       "0 2022-06-21 17:50:19.566448+00:00 2022-07-04 13:05:19.226525+00:00         2   \n",
       "1 2022-06-21 17:50:19.567412+00:00 2022-07-04 13:05:15.952995+00:00        20   \n",
       "2 2022-06-21 17:50:19.567365+00:00 2022-07-04 13:05:13.009857+00:00        19   \n",
       "3 2022-06-21 17:50:19.566502+00:00 2022-07-04 13:05:09.333599+00:00         3   \n",
       "4 2022-06-21 17:50:19.566652+00:00 2022-07-04 13:05:05.915666+00:00         6   \n",
       "\n",
       "   project  updated_by  \n",
       "0       17           6  \n",
       "1       17           6  \n",
       "2       17           6  \n",
       "3       17           6  \n",
       "4       17           6  "
      ]
     },
     "execution_count": 4,
     "metadata": {},
     "output_type": "execute_result"
    }
   ],
   "source": [
    "Data_Annotation_2.head()"
   ]
  },
  {
   "cell_type": "code",
   "execution_count": 13,
   "id": "6e657bcf",
   "metadata": {
    "scrolled": true
   },
   "outputs": [
    {
     "data": {
      "text/plain": [
       "[{'id': 564,\n",
       "  'completed_by': 2,\n",
       "  'result': [{'value': {'choices': ['novo documento']},\n",
       "    'id': 'tSIeSxowKM',\n",
       "    'from_name': 'choice',\n",
       "    'to_name': 'image',\n",
       "    'type': 'choices',\n",
       "    'origin': 'manual'}],\n",
       "  'was_cancelled': False,\n",
       "  'ground_truth': False,\n",
       "  'created_at': '2022-06-21T17:52:59.441539Z',\n",
       "  'updated_at': '2022-07-04T13:05:09.248024Z',\n",
       "  'lead_time': 4.84,\n",
       "  'prediction': {},\n",
       "  'result_count': 0,\n",
       "  'task': 1111,\n",
       "  'parent_prediction': None,\n",
       "  'parent_annotation': None}]"
      ]
     },
     "execution_count": 13,
     "metadata": {},
     "output_type": "execute_result"
    }
   ],
   "source": [
    "Data_Annotation_2.annotations[3]"
   ]
  },
  {
   "cell_type": "code",
   "execution_count": 14,
   "id": "b7c1fa17",
   "metadata": {},
   "outputs": [
    {
     "data": {
      "text/plain": [
       "[{'id': 578,\n",
       "  'completed_by': 2,\n",
       "  'result': [{'value': {'choices': ['mesmo documento']},\n",
       "    'id': '6fTI7xbekK',\n",
       "    'from_name': 'choice',\n",
       "    'to_name': 'image',\n",
       "    'type': 'choices',\n",
       "    'origin': 'manual'}],\n",
       "  'was_cancelled': False,\n",
       "  'ground_truth': False,\n",
       "  'created_at': '2022-06-21T17:54:18.109408Z',\n",
       "  'updated_at': '2022-06-21T17:54:18.109445Z',\n",
       "  'lead_time': 3.147,\n",
       "  'prediction': {},\n",
       "  'result_count': 0,\n",
       "  'task': 1125,\n",
       "  'parent_prediction': None,\n",
       "  'parent_annotation': None}]"
      ]
     },
     "execution_count": 14,
     "metadata": {},
     "output_type": "execute_result"
    }
   ],
   "source": [
    "Data_Annotation_1.annotations[3]"
   ]
  },
  {
   "cell_type": "code",
   "execution_count": 15,
   "id": "27630f6d",
   "metadata": {},
   "outputs": [
    {
     "data": {
      "text/plain": [
       "['mesmo documento']"
      ]
     },
     "execution_count": 15,
     "metadata": {},
     "output_type": "execute_result"
    }
   ],
   "source": [
    "Data_Annotation_1.annotations[0][0]['result'][0]['value']['choices']"
   ]
  },
  {
   "cell_type": "code",
   "execution_count": 16,
   "id": "807fd858",
   "metadata": {},
   "outputs": [
    {
     "data": {
      "text/plain": [
       "'m'"
      ]
     },
     "execution_count": 16,
     "metadata": {},
     "output_type": "execute_result"
    }
   ],
   "source": [
    "Data_Annotation_1.annotations[0][0]['result'][0]['value']['choices'][0][0]"
   ]
  },
  {
   "cell_type": "code",
   "execution_count": 17,
   "id": "8ffc3cf0",
   "metadata": {},
   "outputs": [],
   "source": [
    "Data_Annotation_1.annotations[0][0]['result'][0]['value']['choices'] = 1"
   ]
  },
  {
   "cell_type": "code",
   "execution_count": 18,
   "id": "b06df5ac",
   "metadata": {},
   "outputs": [
    {
     "data": {
      "text/plain": [
       "1"
      ]
     },
     "execution_count": 18,
     "metadata": {},
     "output_type": "execute_result"
    }
   ],
   "source": [
    "Data_Annotation_1.annotations[0][0]['result'][0]['value']['choices']"
   ]
  },
  {
   "cell_type": "code",
   "execution_count": 5,
   "id": "5ee6ecfb",
   "metadata": {},
   "outputs": [],
   "source": [
    "index = 0\n",
    "results = []\n",
    "for annotations in Data_Annotation_1.annotations:\n",
    "    if annotations[0]['result'] == []:\n",
    "        Data_Annotation_1 = Data_Annotation_1.drop(index)\n",
    "    elif annotations[0]['result'][0]['value']['choices'][0][0] == 'm':\n",
    "        Data_Annotation_1.annotations[index][0]['result'][0]['value']['choices'] = 1\n",
    "        results.append(1)\n",
    "    elif annotations[0]['result'][0]['value']['choices'][0][0] == 'n':\n",
    "        Data_Annotation_1.annotations[index][0]['result'][0]['value']['choices'] = 0\n",
    "        results.append(0)\n",
    "    index = index + 1"
   ]
  },
  {
   "cell_type": "code",
   "execution_count": 5,
   "id": "9a8bb456",
   "metadata": {},
   "outputs": [],
   "source": [
    "index = 0\n",
    "results = []\n",
    "aux = []\n",
    "for annotations in Data_Annotation_1.annotations:\n",
    "    if annotations[0]['result'] == []:\n",
    "        Data_Annotation_1.annotations[index][0]['result'] = 2\n",
    "        aux.append(2)\n",
    "    elif annotations[0]['result'][0]['value']['choices'][0][0] == 'm':\n",
    "        Data_Annotation_1.annotations[index][0]['result'] = 1\n",
    "        aux.append(1)\n",
    "    elif annotations[0]['result'][0]['value']['choices'][0][0] == 'n':\n",
    "        Data_Annotation_1.annotations[index][0]['result'] = 0\n",
    "        aux.append(0)\n",
    "    index = index + 1\n",
    "results.append(aux)"
   ]
  },
  {
   "cell_type": "code",
   "execution_count": 6,
   "id": "2b3de65d",
   "metadata": {},
   "outputs": [],
   "source": [
    "index = 0\n",
    "aux = []\n",
    "for annotations in Data_Annotation_2.annotations:\n",
    "    if annotations[0]['result'] == []:\n",
    "        Data_Annotation_2.annotations[index][0]['result'] = 2\n",
    "        aux.append(2)\n",
    "    elif annotations[0]['result'][0]['value']['choices'][0][0] == 'm':\n",
    "        Data_Annotation_2.annotations[index][0]['result'] = 1\n",
    "        aux.append(1)\n",
    "    elif annotations[0]['result'][0]['value']['choices'][0][0] == 'n':\n",
    "        Data_Annotation_2.annotations[index][0]['result'] = 0\n",
    "        aux.append(0)\n",
    "    index = index + 1\n",
    "results.append(aux)"
   ]
  },
  {
   "cell_type": "code",
   "execution_count": 8,
   "id": "459f792f",
   "metadata": {},
   "outputs": [
    {
     "data": {
      "text/plain": [
       "[[1, 0, 1, 1, 1, 0, 1, 1, 0, 0, 1, 1, 1, 0, 1, 1, 0, 1, 0, 0],\n",
       " [1, 0, 1, 0, 0, 0, 1, 1, 1, 1, 1, 1, 0, 0, 1, 1, 0, 1, 0, 0]]"
      ]
     },
     "execution_count": 8,
     "metadata": {},
     "output_type": "execute_result"
    }
   ],
   "source": [
    "results"
   ]
  },
  {
   "cell_type": "code",
   "execution_count": 9,
   "id": "5f7fdf48",
   "metadata": {},
   "outputs": [
    {
     "data": {
      "text/plain": [
       "0.5012787723785166"
      ]
     },
     "execution_count": 9,
     "metadata": {},
     "output_type": "execute_result"
    }
   ],
   "source": [
    "kp.alpha(reliability_data=results)"
   ]
  },
  {
   "cell_type": "code",
   "execution_count": 10,
   "id": "af994c68",
   "metadata": {},
   "outputs": [
    {
     "name": "stdout",
     "output_type": "stream",
     "text": [
      "0.4897959183673469\n"
     ]
    }
   ],
   "source": [
    "print(cohen_kappa_score(results[0], results[1]))"
   ]
  },
  {
   "cell_type": "code",
   "execution_count": null,
   "id": "7e4d01e7",
   "metadata": {},
   "outputs": [],
   "source": []
  }
 ],
 "metadata": {
  "kernelspec": {
   "display_name": "Python 3",
   "language": "python",
   "name": "python3"
  },
  "language_info": {
   "codemirror_mode": {
    "name": "ipython",
    "version": 3
   },
   "file_extension": ".py",
   "mimetype": "text/x-python",
   "name": "python",
   "nbconvert_exporter": "python",
   "pygments_lexer": "ipython3",
   "version": "3.8.8"
  }
 },
 "nbformat": 4,
 "nbformat_minor": 5
}
